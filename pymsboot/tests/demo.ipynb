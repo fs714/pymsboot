{
 "cells": [
  {
   "cell_type": "code",
   "execution_count": null,
   "metadata": {
    "collapsed": true
   },
   "outputs": [],
   "source": [
    "import time\n",
    "import json\n",
    "import requests"
   ]
  },
  {
   "cell_type": "code",
   "execution_count": null,
   "metadata": {},
   "outputs": [],
   "source": [
    "url = 'http://192.168.56.201:9666/'\n",
    "print(json.dumps(requests.get(url).json(), indent=4))"
   ]
  },
  {
   "cell_type": "code",
   "execution_count": null,
   "metadata": {},
   "outputs": [],
   "source": [
    "url = 'http://192.168.56.201:9666/v1'\n",
    "print(json.dumps(requests.get(url).json(), indent=4))"
   ]
  },
  {
   "cell_type": "code",
   "execution_count": null,
   "metadata": {},
   "outputs": [],
   "source": [
    "url = 'http://192.168.56.201:9666/v1/movies'\n",
    "print(json.dumps(requests.get(url).json(), indent=4))"
   ]
  },
  {
   "cell_type": "code",
   "execution_count": null,
   "metadata": {},
   "outputs": [],
   "source": [
    "url = 'http://192.168.56.201:9666/v1/movies/c840f0b6-0d28-4c0c-abaa-f96dca76c057'\n",
    "print(json.dumps(requests.get(url).json(), indent=4))"
   ]
  },
  {
   "cell_type": "code",
   "execution_count": null,
   "metadata": {},
   "outputs": [],
   "source": [
    "data = {\n",
    "    'id': 'f11edef0-d6e6-4935-ac97-06769cc084a3',\n",
    "    'name': 'Jian Guo Da Ye',\n",
    "    'rank': 1,\n",
    "    'url': 'http://www.baidu.com'\n",
    "}\n",
    "\n",
    "url = 'http://192.168.56.201:9666/v1/movies'\n",
    "print(json.dumps(requests.post(url, json=data).json(), indent=4))\n",
    "\n",
    "time.sleep(5)\n",
    "url = 'http://192.168.56.201:9666/v1/movies/f11edef0-d6e6-4935-ac97-06769cc084a3'\n",
    "for i in range(1, 6):\n",
    "    print('------ {}s ------'.format(i * 5))\n",
    "    print(json.dumps(requests.get(url).json(), indent=4))\n",
    "    time.sleep(5)\n",
    "\n",
    "url = 'http://192.168.56.201:9666/v1/movies'\n",
    "print(json.dumps(requests.get(url).json(), indent=4))"
   ]
  },
  {
   "cell_type": "code",
   "execution_count": null,
   "metadata": {},
   "outputs": [],
   "source": [
    "data = {\n",
    "    'id': 'f11edef0-d6e6-4935-ac97-06769cc084a3',\n",
    "    'name': 'Jian Guo Da Ye',\n",
    "    'rank': 1,\n",
    "    'url': 'http://www.google.com'\n",
    "}\n",
    "\n",
    "url = 'http://192.168.56.201:9666/v1/movies/f11edef0-d6e6-4935-ac97-06769cc084a3'\n",
    "print(json.dumps(requests.put(url, json=data).json(), indent=4))\n",
    "\n",
    "time.sleep(5)\n",
    "url = 'http://192.168.56.201:9666/v1/movies/f11edef0-d6e6-4935-ac97-06769cc084a3'\n",
    "for i in range(1, 7):\n",
    "    print('------ {}s ------'.format(i * 5))\n",
    "    print(json.dumps(requests.get(url).json(), indent=4))\n",
    "    time.sleep(5)\n",
    "\n",
    "url = 'http://192.168.56.201:9666/v1/movies'\n",
    "print(json.dumps(requests.get(url).json(), indent=4))"
   ]
  },
  {
   "cell_type": "code",
   "execution_count": null,
   "metadata": {},
   "outputs": [],
   "source": [
    "url = 'http://192.168.56.201:9666/v1/movies/f11edef0-d6e6-4935-ac97-06769cc084a3'\n",
    "print(json.dumps(requests.delete(url).json(), indent=4))\n",
    "\n",
    "url = 'http://192.168.56.201:9666/v1/movies'\n",
    "print(json.dumps(requests.get(url).json(), indent=4))\n",
    "\n",
    "time.sleep(10)\n",
    "print('------ 15s ------')\n",
    "url = 'http://192.168.56.201:9666/v1/movies'\n",
    "print(json.dumps(requests.get(url).json(), indent=4))"
   ]
  },
  {
   "cell_type": "code",
   "execution_count": null,
   "metadata": {},
   "outputs": [],
   "source": []
  },
  {
   "cell_type": "code",
   "execution_count": null,
   "metadata": {
    "collapsed": true
   },
   "outputs": [],
   "source": []
  },
  {
   "cell_type": "code",
   "execution_count": null,
   "metadata": {
    "collapsed": true
   },
   "outputs": [],
   "source": []
  }
 ],
 "metadata": {
  "kernelspec": {
   "display_name": "Python 3",
   "language": "python",
   "name": "python3"
  },
  "language_info": {
   "codemirror_mode": {
    "name": "ipython",
    "version": 3
   },
   "file_extension": ".py",
   "mimetype": "text/x-python",
   "name": "python",
   "nbconvert_exporter": "python",
   "pygments_lexer": "ipython3",
   "version": "3.6.0"
  }
 },
 "nbformat": 4,
 "nbformat_minor": 2
}
